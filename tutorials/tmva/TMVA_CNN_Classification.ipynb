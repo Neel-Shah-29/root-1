{
  "cells": [
    {
      "cell_type": "code",
      "execution_count": null,
      "id": "5a408476",
      "metadata": {
        "id": "5a408476"
      },
      "outputs": [],
      "source": [
        "# / \\file\n",
        "# / \\ingroup tutorial_tmva\n",
        "# / \\notebook\n",
        "# /  TMVA Classification Example Using a Convolutional Neural Network\n",
        "# /\n",
        "# / This is an example of using a CNN in TMVA. We do classification using a toy image data set\n",
        "# / that is generated when running the example macro\n",
        "# /\n",
        "# / \\macro_image\n",
        "# / \\macro_output\n",
        "# / \\macro_code\n",
        "# /\n",
        "# / \\author Neel Shah\n",
        "\n",
        "\n",
        " # TMVA Classification Example Using a Convolutional Neural Network\n",
        "\n",
        "\n",
        "#  Helper function to create input images data\n",
        "#  we create a signal and background 2D histograms from 2d gaussians\n",
        "#  with a location (means in X and Y)  different for each event\n",
        "#  The difference between signal and background is in the gaussian width.\n",
        "#  The width for the background gaussian is slightly larger than the signal width by few % values\n",
        "# \n",
        "# "
      ]
    },
    {
      "cell_type": "code",
      "execution_count": null,
      "id": "cfb14961",
      "metadata": {
        "id": "cfb14961",
        "outputId": "e5abb701-a18e-43e2-f10b-e19664b70dc1"
      },
      "outputs": [
        {
          "name": "stdout",
          "output_type": "stream",
          "text": [
            "Welcome to JupyROOT 6.26/00\n"
          ]
        }
      ],
      "source": [
        "import ROOT\n",
        "from ROOT import TMVA \n",
        "from array import array"
      ]
    },
    {
      "cell_type": "code",
      "execution_count": null,
      "id": "fc992dc1",
      "metadata": {
        "id": "fc992dc1",
        "outputId": "58760625-0016-405f-85fe-523848de620f"
      },
      "outputs": [
        {
          "data": {
            "text/plain": [
              "<cppyy.gbl.TMVA.Tools object at 0xb689ed0>"
            ]
          },
          "execution_count": 5,
          "metadata": {},
          "output_type": "execute_result"
        }
      ],
      "source": [
        "opt=[1,1,1,1,1]\n",
        "useTMVACNN = opt[0] if (len(opt) > 0) else False\n",
        "useKerasCNN = opt[0] if (len(opt) > 1) else False\n",
        "useTMVADNN = opt[0] if (len(opt) > 2) else False\n",
        "useTMVABDT = opt[0] if (len(opt) > 3) else False\n",
        "usePyTorchCNN = opt[0] if (len(opt) > 4) else False\n",
        "useTMVACNN = False\n",
        "\n",
        "writeOutputFile = True\n",
        "\n",
        "num_threads = 0  # use default threads\n",
        "\n",
        "\n",
        "\n",
        "## For PYMVA methods\n",
        "TMVA.PyMethodBase.PyInitialize()\n",
        "\n",
        "ROOT.TMVA.Tools.Instance()\n"
      ]
    },
    {
      "cell_type": "code",
      "execution_count": null,
      "id": "cd37cd11",
      "metadata": {
        "id": "cd37cd11",
        "outputId": "94d2bc67-a2ca-4803-da3e-0a9c5998463a"
      },
      "outputs": [
        {
          "name": "stdout",
          "output_type": "stream",
          "text": [
            "Running with nthreads  = 4\n"
          ]
        }
      ],
      "source": [
        "# do enable MT running\n",
        "if (num_threads >= 0):\n",
        "  ROOT.EnableImplicitMT(num_threads)\n",
        "  if (num_threads > 0):\n",
        "     ROOT.gSystem.Setenv(\"OMP_NUM_THREADS\", ROOT.TString.Format(\"%d\",num_threads))\n",
        "\n",
        "else:\n",
        "  ROOT.gSystem.Setenv(\"OMP_NUM_THREADS\", \"1\")\n",
        "\n",
        "print(\"Running with nthreads  = \" + str(ROOT.GetThreadPoolSize()) )"
      ]
    },
    {
      "cell_type": "code",
      "execution_count": null,
      "id": "e3667de0",
      "metadata": {
        "id": "e3667de0"
      },
      "outputs": [],
      "source": [
        "if __debug__:\n",
        "    ROOT.gSystem.Setenv(\"KERAS_BACKEND\", \"tensorflow\")\n",
        "    # for using Keras\n",
        "#     TMVA.PyMethodBase.PyInitialize()\n",
        "else:\n",
        "    useKerasCNN = False"
      ]
    },
    {
      "cell_type": "code",
      "execution_count": null,
      "id": "5ae55798",
      "metadata": {
        "id": "5ae55798"
      },
      "outputs": [],
      "source": [
        "if (writeOutputFile):\n",
        "    outputFile = ROOT.TFile.Open(\"TMVA_CNN_ClassificationOutput.root\", \"RECREATE\")\n"
      ]
    },
    {
      "cell_type": "code",
      "execution_count": null,
      "id": "7d8a976b",
      "metadata": {
        "scrolled": true,
        "id": "7d8a976b"
      },
      "outputs": [],
      "source": [
        "'''\n",
        "      \n",
        "    ## Create TMVA Factory\n",
        "    Create the Factory class. Later you can choose the methods\n",
        "    whose performance you'd like to investigate.\n",
        "\n",
        "    The factory is the major TMVA object you have to interact with. Here is the list of parameters you need to pass\n",
        "\n",
        "    - The first argument is the base of the name of all the output\n",
        "    weightfiles in the directory weight/ that will be created with the\n",
        "    method parameters\n",
        "\n",
        "    - The second argument is the output file for the training results\n",
        "\n",
        "    - The third argument is a string option defining some general configuration for the TMVA session.\n",
        "      For example all TMVA output can be suppressed by removing the \"!\" (not) in front of the \"Silent\" argument in the\n",
        "   option string\n",
        "\n",
        "    - note that we disable any pre-transformation of the input variables and we avoid computing correlations between\n",
        "   input variables\n",
        "'''\n",
        "\n",
        "factory =  ROOT.TMVA.Factory (\n",
        "  \"TMVA_CNN_Classification\", outputFile,\n",
        "  \"!V:ROC:!Silent:Color:AnalysisType=Classification:Transformations=None:!Correlations\")\n"
      ]
    },
    {
      "cell_type": "code",
      "execution_count": null,
      "id": "f942ac03",
      "metadata": {
        "id": "f942ac03"
      },
      "outputs": [],
      "source": [
        "'''\n",
        "\n",
        "  ## Declare DataLoader(s)\n",
        "\n",
        "  The next step is to declare the DataLoader class that deals with input variables\n",
        "\n",
        "  Define the input variables that shall be used for the MVA training\n",
        "  note that you may also use variable expressions, which can be parsed by TTree::Draw( \"expression\" )]\n",
        "\n",
        "  In this case the input data consists of an image of 16x16 pixels. Each single pixel is a branch in a ROOT TTree\n",
        "\n",
        "'''\n",
        "loader = ROOT.TMVA.DataLoader(\"dataset\")"
      ]
    },
    {
      "cell_type": "code",
      "execution_count": null,
      "id": "86f6db91",
      "metadata": {
        "id": "86f6db91"
      },
      "outputs": [],
      "source": [
        "'''\n",
        "\n",
        "   ## Setup Dataset(s)\n",
        "\n",
        "   Define input data file and signal and background trees\n",
        "\n",
        "'''\n",
        "\n",
        "imgSize = 16 * 16\n",
        "inputFileName = \"images_data_16x16.root\"\n",
        "\n"
      ]
    },
    {
      "cell_type": "code",
      "execution_count": null,
      "id": "4826c3c9",
      "metadata": {
        "id": "4826c3c9"
      },
      "outputs": [],
      "source": [
        "def MakeImagesTree(n, nh, nw):\n",
        "    #  image size (nh x nw)\n",
        "    ntot = nh * nw\n",
        "    fileOutName = \"images_data_\"+str(nh)+\"x\"+str(nw)+\".root\"\n",
        "\n",
        "    nRndmEvts = 10000 # number of events we use to fill each image\n",
        "    delta_sigma = 0.1  # 5% difference in the sigma\n",
        "    pixelNoise = 5\n",
        "\n",
        "    sX1 = 3\n",
        "    sY1 = 3\n",
        "    sX2 = sX1 + delta_sigma\n",
        "    sY2 = sY1 - delta_sigma\n",
        "\n",
        "    h1 = ROOT.TH2D(\"h1\", \"h1\", nh, 0, 10, nw, 0, 10)\n",
        "    h2 = ROOT.TH2D(\"h2\", \"h2\", nh, 0, 10, nw, 0, 10)\n",
        "\n",
        "    f1 = ROOT.TF2(\"f1\", \"xygaus\")\n",
        "    f2 = ROOT.TF2(\"f2\", \"xygaus\")\n",
        "    sgn = ROOT.TTree(\"sig_tree\", \"signal_tree\")\n",
        "    bkg = ROOT.TTree(\"bkg_tree\", \"background_tree\")\n",
        "\n",
        "    f = ROOT.TFile(fileOutName, \"RECREATE\")\n",
        "\n",
        "    x1 = [None]*ntot\n",
        "    x2 = [None]*ntot\n",
        "\n",
        "    # create signal and background trees with a single branch\n",
        "    # an array of size nh x nw containing the image data\n",
        "\n",
        "#     px1 = array(x1)\n",
        "#     px2 = array(x2)\n",
        "\n",
        "#     bkg.Branch(\"vars\", \"array\", x1)\n",
        "#     sgn.Branch(\"vars\", \"array\", x2)\n",
        "\n",
        "    # print(\"create tree\")\n",
        "\n",
        "    sgn.SetDirectory(f)\n",
        "    bkg.SetDirectory(f)\n",
        "\n",
        "    f1.SetParameters(1, 5, sX1, 5, sY1)\n",
        "    f2.SetParameters(1, 5, sX2, 5, sY2)\n",
        "    ROOT.gRandom.SetSeed(0)\n",
        "    print(\"Filling ROOT tree \\n\")\n",
        "    for i in range(n) :\n",
        "      if (i % 1000 == 0):\n",
        "         print(\"Generating image event ... \" + str(i) )\n",
        "      h1.Reset()\n",
        "      h2.Reset()\n",
        "      #generate random means in range [3,7] to be not too much on the border\n",
        "      f1.SetParameter(1, ROOT.gRandom.Uniform(3, 7))\n",
        "      f1.SetParameter(3, ROOT.gRandom.Uniform(3, 7))\n",
        "      f2.SetParameter(1, ROOT.gRandom.Uniform(3, 7))\n",
        "      f2.SetParameter(3, ROOT.gRandom.Uniform(3, 7))\n",
        "\n",
        "      h1.FillRandom(\"f1\", nRndmEvts)\n",
        "      h2.FillRandom(\"f2\", nRndmEvts)\n",
        "\n",
        "      for k in range(nh):\n",
        "         for l in range(nw):\n",
        "            m = k * nw + l\n",
        "            # add some noise in each bin\n",
        "            x1[m] = h1.GetBinContent(k + 1, l + 1) + ROOT.gRandom.Gaus(0, pixelNoise)\n",
        "            x2[m] = h2.GetBinContent(k + 1, l + 1) + ROOT.gRandom.Gaus(0, pixelNoise)\n",
        "\n",
        "\n",
        "      sgn.Fill()\n",
        "      bkg.Fill()\n",
        "\n",
        "    sgn.Write()\n",
        "    bkg.Write()\n",
        "\n",
        "    ROOT.Info(\"MakeImagesTree\", \"Signal and background tree with images data written to the file\" + str(f.GetName()))\n",
        "    sgn.Print()\n",
        "    bkg.Print()\n",
        "    f.Close()"
      ]
    },
    {
      "cell_type": "code",
      "execution_count": null,
      "id": "ffe34ae7",
      "metadata": {
        "id": "ffe34ae7",
        "outputId": "910810c6-037e-4a75-b14c-aacfc6744fca"
      },
      "outputs": [
        {
          "name": "stdout",
          "output_type": "stream",
          "text": [
            "Filling ROOT tree \n",
            "\n",
            "Generating image event ... 0\n",
            "Generating image event ... 1000\n",
            "Generating image event ... 2000\n",
            "Generating image event ... 3000\n",
            "Generating image event ... 4000\n",
            "******************************************************************************\n",
            "*Tree    :sig_tree  : signal_tree                                            *\n",
            "*Entries :     5000 : Total =             339 bytes  File  Size =        205 *\n",
            "*        :          : Tree compression factor =   1.00                       *\n",
            "******************************************************************************\n",
            "******************************************************************************\n",
            "*Tree    :bkg_tree  : background_tree                                        *\n",
            "*Entries :     5000 : Total =             347 bytes  File  Size =        214 *\n",
            "*        :          : Tree compression factor =   1.00                       *\n",
            "******************************************************************************\n"
          ]
        },
        {
          "name": "stderr",
          "output_type": "stream",
          "text": [
            "Info in <MakeImagesTree>: Signal and background tree with images data written to the fileimages_data_16x16.root\n"
          ]
        }
      ],
      "source": [
        "MakeImagesTree(5000, 16, 16)"
      ]
    },
    {
      "cell_type": "code",
      "execution_count": null,
      "id": "0e189e7e",
      "metadata": {
        "id": "0e189e7e",
        "outputId": "4649f114-dd7a-4b37-d483-237778a01f31"
      },
      "outputs": [
        {
          "name": "stdout",
          "output_type": "stream",
          "text": [
            "******************************************************************************\n",
            "*Tree    :sig_tree  : signal_tree                                            *\n",
            "*Entries :     5000 : Total =             339 bytes  File  Size =        205 *\n",
            "*        :          : Tree compression factor =   1.00                       *\n",
            "******************************************************************************\n",
            "DataSetInfo              : [dataset] : Added class \"Signal\"\n",
            "                         : Add Tree sig_tree of type Signal with 5000 events\n",
            "DataSetInfo              : [dataset] : Added class \"Background\"\n",
            "                         : Add Tree bkg_tree of type Background with 5000 events\n"
          ]
        }
      ],
      "source": [
        "inputFile = ROOT.TFile.Open(inputFileName)\n",
        "if (inputFile == None):\n",
        "    Error(\"TMVA_CNN_Classification\", \"Error opening input file %s - exit\", inputFileName.Data())\n",
        "signalTree = inputFile.Get(\"sig_tree\")\n",
        "backgroundTree = inputFile.Get(\"bkg_tree\")\n",
        "\n",
        "signalTree.Print()\n",
        "\n",
        "nEventsSig = signalTree.GetEntries()\n",
        "nEventsBkg = backgroundTree.GetEntries()\n",
        "# global event weights per tree (see below for setting event-wise weights)\n",
        "signalWeight = 1.0\n",
        "backgroundWeight = 1.0\n",
        "\n",
        "# You can add an arbitrary number of signal or background trees\n",
        "loader.AddSignalTree(signalTree, signalWeight)\n",
        "loader.AddBackgroundTree(backgroundTree, backgroundWeight)\n",
        "\n",
        "## add event variables (image)\n",
        "## use new method (from ROOT 6.20 to add a variable array for all image data)\n",
        " \n",
        "for  i in range(0,imgSize):\n",
        "    varName = \"var\"+str(i)\n",
        "    loader.AddVariable(varName,'F');\n",
        "\n",
        "# Set individual event weights (the variables must exist in the original TTree)\n",
        "#    for signal    : factory.SetSignalWeightExpression    (\"weight1*weight2\")\n",
        "#    for background: factory.SetBackgroundWeightExpression(\"weight1*weight2\")\n",
        "# loader.SetBackgroundWeightExpression( \"weight\" )"
      ]
    },
    {
      "cell_type": "code",
      "execution_count": null,
      "id": "9c784d6e",
      "metadata": {
        "id": "9c784d6e",
        "outputId": "8580adb1-dbd1-412a-9a3c-8bd3f56fd910"
      },
      "outputs": [
        {
          "data": {
            "text/plain": [
              "'\\n\\n   DataSetInfo              : [dataset] : Added class \"Signal\"\\n   : Add Tree sig_tree of type Signal with 10000 events\\n   DataSetInfo              : [dataset] : Added class \"Background\"\\n   : Add Tree bkg_tree of type Background with 10000 events\\n\\n\\n\\n'"
            ]
          },
          "execution_count": 15,
          "metadata": {},
          "output_type": "execute_result"
        }
      ],
      "source": [
        "# Apply additional cuts on the signal and background samples (can be different)\n",
        "mycuts = ROOT.TCut(\"\") # for example: TCut mycuts = \"abs(var1)<0.5 && abs(var2-0.5)<1\";\n",
        "mycutb = ROOT.TCut(\"\") # for example: TCut mycutb = \"abs(var1)<0.5\";\n",
        "\n",
        "#  Tell the factory how to use the training and testing events\n",
        "# \n",
        "#  If no numbers of events are given, half of the events in the tree are used\n",
        "#  for training, and the other half for testing:\n",
        "#     loader->PrepareTrainingAndTestTree( mycut, \"SplitMode=random:!V\" );\n",
        "#  It is possible also to specify the number of training and testing events,\n",
        "#  note we disable the computation of the correlation matrix of the input variables\n",
        "\n",
        "nTrainSig = 0.8 * nEventsSig\n",
        "nTrainBkg = 0.8 * nEventsBkg\n",
        "\n",
        "#  build the string options for DataLoader::PrepareTrainingAndTestTree\n",
        "prepareOptions = \"nTrain_Signal=\"+str(nTrainSig)+\":nTrain_Background=\"+str(nTrainBkg)+\":SplitMode=Random:SplitSeed=100:NormMode=NumEvents:!V:!CalcCorrelations\"\n",
        "  \n",
        "\n",
        "loader.PrepareTrainingAndTestTree(mycuts, mycutb, prepareOptions)\n",
        "\n",
        "'''\n",
        "\n",
        "   DataSetInfo              : [dataset] : Added class \"Signal\"\n",
        "   : Add Tree sig_tree of type Signal with 10000 events\n",
        "   DataSetInfo              : [dataset] : Added class \"Background\"\n",
        "   : Add Tree bkg_tree of type Background with 10000 events\n",
        "\n",
        "\n",
        "\n",
        "'''\n",
        "\n",
        "# signalTree.Print();\n"
      ]
    },
    {
      "cell_type": "code",
      "execution_count": null,
      "id": "e01b5f32",
      "metadata": {
        "id": "e01b5f32",
        "outputId": "5b149c68-4d42-4584-c132-f186d652a1aa"
      },
      "outputs": [
        {
          "data": {
            "text/plain": [
              "<cppyy.gbl.TMVA.MethodDL object at 0xc782080>"
            ]
          },
          "execution_count": 16,
          "metadata": {},
          "output_type": "execute_result"
        },
        {
          "name": "stdout",
          "output_type": "stream",
          "text": [
            "Factory                  : Booking method: \u001b[1mTMVA_DNN_CPU\u001b[0m\n",
            "                         : \n",
            "                         : Parsing option string: \n",
            "                         : ... \"!H:V:ErrorStrategy=CROSSENTROPY:VarTransform=None:WeightInitialization=XAVIER:Layout=DENSE|100|RELU,BNORM,DENSE|100|RELU,BNORM,DENSE|100|RELU,BNORM,DENSE|100|RELU,DENSE|1|LINEAR:TrainingStrategy=LearningRate=1e-3,Momentum=0.9,Repetitions=1,ConvergenceSteps=5,BatchSize=100,TestRepetitions=1,MaxEpochs=20,WeightDecay=1e-4,Regularization=None,Optimizer=ADAM,DropConfig=0.0+0.0+0.0+0.:Architecture=CPU\"\n",
            "                         : The following options are set:\n",
            "                         : - By User:\n",
            "                         :     <none>\n",
            "                         : - Default:\n",
            "                         :     Boost_num: \"0\" [Number of times the classifier will be boosted]\n",
            "                         : Parsing option string: \n",
            "                         : ... \"!H:V:ErrorStrategy=CROSSENTROPY:VarTransform=None:WeightInitialization=XAVIER:Layout=DENSE|100|RELU,BNORM,DENSE|100|RELU,BNORM,DENSE|100|RELU,BNORM,DENSE|100|RELU,DENSE|1|LINEAR:TrainingStrategy=LearningRate=1e-3,Momentum=0.9,Repetitions=1,ConvergenceSteps=5,BatchSize=100,TestRepetitions=1,MaxEpochs=20,WeightDecay=1e-4,Regularization=None,Optimizer=ADAM,DropConfig=0.0+0.0+0.0+0.:Architecture=CPU\"\n",
            "                         : The following options are set:\n",
            "                         : - By User:\n",
            "                         :     V: \"True\" [Verbose output (short form of \"VerbosityLevel\" below - overrides the latter one)]\n",
            "                         :     VarTransform: \"None\" [List of variable transformations performed before training, e.g., \"D_Background,P_Signal,G,N_AllClasses\" for: \"Decorrelation, PCA-transformation, Gaussianisation, Normalisation, each for the given class of events ('AllClasses' denotes all events of all classes, if no class indication is given, 'All' is assumed)\"]\n",
            "                         :     H: \"False\" [Print method-specific help message]\n",
            "                         :     Layout: \"DENSE|100|RELU,BNORM,DENSE|100|RELU,BNORM,DENSE|100|RELU,BNORM,DENSE|100|RELU,DENSE|1|LINEAR\" [Layout of the network.]\n",
            "                         :     ErrorStrategy: \"CROSSENTROPY\" [Loss function: Mean squared error (regression) or cross entropy (binary classification).]\n",
            "                         :     WeightInitialization: \"XAVIER\" [Weight initialization strategy]\n",
            "                         :     Architecture: \"CPU\" [Which architecture to perform the training on.]\n",
            "                         :     TrainingStrategy: \"LearningRate=1e-3,Momentum=0.9,Repetitions=1,ConvergenceSteps=5,BatchSize=100,TestRepetitions=1,MaxEpochs=20,WeightDecay=1e-4,Regularization=None,Optimizer=ADAM,DropConfig=0.0+0.0+0.0+0.\" [Defines the training strategies.]\n",
            "                         : - Default:\n",
            "                         :     VerbosityLevel: \"Default\" [Verbosity level]\n",
            "                         :     CreateMVAPdfs: \"False\" [Create PDFs for classifier outputs (signal and background)]\n",
            "                         :     IgnoreNegWeightsInTraining: \"False\" [Events with negative weights are ignored in the training (but are included for testing and performance evaluation)]\n",
            "                         :     InputLayout: \"0|0|0\" [The Layout of the input]\n",
            "                         :     BatchLayout: \"0|0|0\" [The Layout of the batch]\n",
            "                         :     RandomSeed: \"0\" [Random seed used for weight initialization and batch shuffling]\n",
            "                         :     ValidationSize: \"20%\" [Part of the training data to use for validation. Specify as 0.2 or 20% to use a fifth of the data set as validation set. Specify as 100 to use exactly 100 events. (Default: 20%)]\n",
            "                         : Will now use the CPU architecture with BLAS and IMT support !\n"
          ]
        }
      ],
      "source": [
        "'''\n",
        "    # Booking Methods\n",
        "\n",
        "    Here we book the TMVA methods. We book a Boosted Decision Tree method (BDT)\n",
        "\n",
        "'''\n",
        "\n",
        "# Boosted Decision Trees\n",
        "# if (useTMVABDT):\n",
        "#   factory.BookMethod(loader, ROOT.TMVA.Types.kBDT, \"BDT\",\"!V:NTrees=400:MinNodeSize=2.5%:MaxDepth=2:BoostType=AdaBoost:AdaBoostBeta=0.5:\"+\"UseBaggedBoost:BaggedSampleFraction=0.5:SeparationType=GiniIndex:nCuts=20\")\n",
        "\n",
        "'''\n",
        "#### Booking Deep Neural Network\n",
        "\n",
        "Here we book the DNN of TMVA. See the example TMVA_Higgs_Classification.C for a detailed description of the\n",
        "options\n",
        "'''\n",
        "\n",
        "if (useTMVADNN):\n",
        "  layoutString = \"Layout=DENSE|100|RELU,BNORM,DENSE|100|RELU,BNORM,DENSE|100|RELU,BNORM,DENSE|100|RELU,DENSE|1|LINEAR\"\n",
        "\n",
        "  #  Training strategies\n",
        "  #  one can catenate several training strings with different parameters (e.g. learning rates or regularizations\n",
        "  #  parameters) The training string must be concatenates with the `|` delimiter\n",
        "  trainingString1 = \"LearningRate=1e-3,Momentum=0.9,Repetitions=1,\"+ \"ConvergenceSteps=5,BatchSize=100,TestRepetitions=1,\"+\"MaxEpochs=20,WeightDecay=1e-4,Regularization=None,\"+\"Optimizer=ADAM,DropConfig=0.0+0.0+0.0+0.\"\n",
        "                          \n",
        "\n",
        "  trainingStrategyString = \"TrainingStrategy=\"\n",
        "  trainingStrategyString += trainingString1 # + \"|\" + trainingString2 + ....\n",
        "\n",
        "  # Build now the full DNN Option string\n",
        "\n",
        "  dnnOptions = \"!H:V:ErrorStrategy=CROSSENTROPY:VarTransform=None:\"+\"WeightInitialization=XAVIER\"\n",
        "  dnnOptions+= \":\"\n",
        "  dnnOptions+= layoutString\n",
        "  dnnOptions+= \":\"\n",
        "  dnnOptions+= trainingStrategyString\n",
        "\n",
        "  dnnMethodName = \"TMVA_DNN_CPU\"\n",
        "\n",
        "  dnnOptions += \":Architecture=CPU\"\n",
        "\n",
        "\n",
        "factory.BookMethod(loader, ROOT.TMVA.Types.kDL, dnnMethodName, dnnOptions)"
      ]
    },
    {
      "cell_type": "code",
      "execution_count": null,
      "id": "bc50dc5a",
      "metadata": {
        "id": "bc50dc5a",
        "outputId": "3ff0f215-6a5e-458c-8899-67879b2049eb"
      },
      "outputs": [
        {
          "data": {
            "text/plain": [
              "<cppyy.gbl.TMVA.MethodDL object at 0xc959a20>"
            ]
          },
          "execution_count": 17,
          "metadata": {},
          "output_type": "execute_result"
        },
        {
          "name": "stdout",
          "output_type": "stream",
          "text": [
            "Factory                  : Booking method: \u001b[1mTMVA_CNN_CPU\u001b[0m\n",
            "                         : \n",
            "                         : Parsing option string: \n",
            "                         : ... \"!H:V:ErrorStrategy=CROSSENTROPY:VarTransform=None:WeightInitialization=XAVIER::Architecture=CPU:InputLayout=1|16|16:Layout=CONV|10|3|3|1|1|1|1|RELU,BNORM,CONV|10|3|3|1|1|1|1|RELU,MAXPOOL|2|2|1|1,RESHAPE|FLAT,DENSE|100|RELU,DENSE|1|LINEAR:TrainingStrategy=LearningRate=1e-3,Momentum=0.9,Repetitions=1,ConvergenceSteps=5,BatchSize=100,TestRepetitions=1,MaxEpochs=20,WeightDecay=1e-4,Regularization=None,Optimizer=ADAM,DropConfig=0.0+0.0+0.0+0.0:Architecture=CPU\"\n",
            "                         : The following options are set:\n",
            "                         : - By User:\n",
            "                         :     <none>\n",
            "                         : - Default:\n",
            "                         :     Boost_num: \"0\" [Number of times the classifier will be boosted]\n",
            "                         : Parsing option string: \n",
            "                         : ... \"!H:V:ErrorStrategy=CROSSENTROPY:VarTransform=None:WeightInitialization=XAVIER::Architecture=CPU:InputLayout=1|16|16:Layout=CONV|10|3|3|1|1|1|1|RELU,BNORM,CONV|10|3|3|1|1|1|1|RELU,MAXPOOL|2|2|1|1,RESHAPE|FLAT,DENSE|100|RELU,DENSE|1|LINEAR:TrainingStrategy=LearningRate=1e-3,Momentum=0.9,Repetitions=1,ConvergenceSteps=5,BatchSize=100,TestRepetitions=1,MaxEpochs=20,WeightDecay=1e-4,Regularization=None,Optimizer=ADAM,DropConfig=0.0+0.0+0.0+0.0:Architecture=CPU\"\n",
            "<WARNING>                : Value for option architecture was previously set to CPU\n",
            "                         : The following options are set:\n",
            "                         : - By User:\n",
            "                         :     V: \"True\" [Verbose output (short form of \"VerbosityLevel\" below - overrides the latter one)]\n",
            "                         :     VarTransform: \"None\" [List of variable transformations performed before training, e.g., \"D_Background,P_Signal,G,N_AllClasses\" for: \"Decorrelation, PCA-transformation, Gaussianisation, Normalisation, each for the given class of events ('AllClasses' denotes all events of all classes, if no class indication is given, 'All' is assumed)\"]\n",
            "                         :     H: \"False\" [Print method-specific help message]\n",
            "                         :     InputLayout: \"1|16|16\" [The Layout of the input]\n",
            "                         :     Layout: \"CONV|10|3|3|1|1|1|1|RELU,BNORM,CONV|10|3|3|1|1|1|1|RELU,MAXPOOL|2|2|1|1,RESHAPE|FLAT,DENSE|100|RELU,DENSE|1|LINEAR\" [Layout of the network.]\n",
            "                         :     ErrorStrategy: \"CROSSENTROPY\" [Loss function: Mean squared error (regression) or cross entropy (binary classification).]\n",
            "                         :     WeightInitialization: \"XAVIER\" [Weight initialization strategy]\n",
            "                         :     Architecture: \"CPU\" [Which architecture to perform the training on.]\n",
            "                         :     TrainingStrategy: \"LearningRate=1e-3,Momentum=0.9,Repetitions=1,ConvergenceSteps=5,BatchSize=100,TestRepetitions=1,MaxEpochs=20,WeightDecay=1e-4,Regularization=None,Optimizer=ADAM,DropConfig=0.0+0.0+0.0+0.0\" [Defines the training strategies.]\n",
            "                         : - Default:\n",
            "                         :     VerbosityLevel: \"Default\" [Verbosity level]\n",
            "                         :     CreateMVAPdfs: \"False\" [Create PDFs for classifier outputs (signal and background)]\n",
            "                         :     IgnoreNegWeightsInTraining: \"False\" [Events with negative weights are ignored in the training (but are included for testing and performance evaluation)]\n",
            "                         :     BatchLayout: \"0|0|0\" [The Layout of the batch]\n",
            "                         :     RandomSeed: \"0\" [Random seed used for weight initialization and batch shuffling]\n",
            "                         :     ValidationSize: \"20%\" [Part of the training data to use for validation. Specify as 0.2 or 20% to use a fifth of the data set as validation set. Specify as 100 to use exactly 100 events. (Default: 20%)]\n",
            "                         : Will now use the CPU architecture with BLAS and IMT support !\n"
          ]
        }
      ],
      "source": [
        "'''\n",
        "### Book Convolutional Neural Network in TMVA\n",
        "\n",
        "For building a CNN one needs to define\n",
        "\n",
        "-  Input Layout :  number of channels (in this case = 1)  | image height | image width\n",
        "-  Batch Layout :  batch size | number of channels | image size = (height*width)\n",
        "\n",
        "Then one add Convolutional layers and MaxPool layers.\n",
        "\n",
        "-  For Convolutional layer the option string has to be:\n",
        "   - CONV | number of units | filter height | filter width | stride height | stride width | padding height | paddig\n",
        "width | activation function\n",
        "\n",
        "   - note in this case we are using a filer 3x3 and padding=1 and stride=1 so we get the output dimension of the\n",
        "conv layer equal to the input\n",
        "\n",
        "  - note we use after the first convolutional layer a batch normalization layer. This seems to help significantly the\n",
        "convergence\n",
        "\n",
        " - For the MaxPool layer:\n",
        "    - MAXPOOL  | pool height | pool width | stride height | stride width\n",
        "\n",
        "The RESHAPE layer is needed to flatten the output before the Dense layer\n",
        "\n",
        "\n",
        "Note that to run the CNN is required to have CPU  or GPU support\n",
        "\n",
        "'''\n",
        "\n",
        "\n",
        "\n",
        "inputLayoutString =\"InputLayout=1|16|16\"\n",
        "\n",
        "#  Batch Layout\n",
        "layoutString = \"Layout=CONV|10|3|3|1|1|1|1|RELU,BNORM,CONV|10|3|3|1|1|1|1|RELU,MAXPOOL|2|2|1|1,\"+\"RESHAPE|FLAT,DENSE|100|RELU,DENSE|1|LINEAR\"\n",
        "\n",
        "#  Training strategies.\n",
        "trainingString1 = \"LearningRate=1e-3,Momentum=0.9,Repetitions=1,\"+\"ConvergenceSteps=5,BatchSize=100,TestRepetitions=1,\"+\"MaxEpochs=20,WeightDecay=1e-4,Regularization=None,\"+\"Optimizer=ADAM,DropConfig=0.0+0.0+0.0+0.0\"\n",
        "\n",
        "trainingStrategyString = \"TrainingStrategy=\"\n",
        "trainingStrategyString += trainingString1 # + \"|\" + trainingString2 + \"|\" + trainingString3; for concatenating more training strings\n",
        "\n",
        "# Build full CNN Options.\n",
        "\n",
        "\n",
        "cnnOptions = \"!H:V:ErrorStrategy=CROSSENTROPY:VarTransform=None:\" +\"WeightInitialization=XAVIER::Architecture=CPU\"\n",
        "\n",
        "cnnOptions +=  \":\" + inputLayoutString\n",
        "cnnOptions +=  \":\" + layoutString\n",
        "cnnOptions +=  \":\" + trainingStrategyString\n",
        "  ## New DL (CNN)\n",
        "cnnMethodName = \"TMVA_CNN_CPU\"\n",
        "# use GPU if available\n",
        "\n",
        "\n",
        "cnnOptions += \":Architecture=CPU\"\n",
        "cnnMethodName = \"TMVA_CNN_CPU\"\n",
        "\n",
        "\n",
        "factory.BookMethod(loader, ROOT.TMVA.Types.kDL, cnnMethodName, cnnOptions)\n"
      ]
    },
    {
      "cell_type": "code",
      "execution_count": null,
      "id": "822d582a",
      "metadata": {
        "id": "822d582a"
      },
      "outputs": [],
      "source": [
        "\n"
      ]
    },
    {
      "cell_type": "code",
      "execution_count": null,
      "id": "7156e46d",
      "metadata": {
        "scrolled": true,
        "id": "7156e46d",
        "outputId": "edafaacc-5ae8-47c2-d2c0-571ae8445f55"
      },
      "outputs": [
        {
          "name": "stdout",
          "output_type": "stream",
          "text": [
            "Model: \"sequential\"\n",
            "_________________________________________________________________\n",
            " Layer (type)                Output Shape              Param #   \n",
            "=================================================================\n",
            " reshape (Reshape)           (None, 16, 16, 1)         0         \n",
            "                                                                 \n",
            " conv2d (Conv2D)             (None, 16, 16, 10)        100       \n",
            "                                                                 \n",
            " conv2d_1 (Conv2D)           (None, 16, 16, 10)        910       \n",
            "                                                                 \n",
            " batch_normalization (BatchN  (None, 16, 16, 10)       40        \n",
            " ormalization)                                                   \n",
            "                                                                 \n",
            " conv2d_2 (Conv2D)           (None, 16, 16, 10)        910       \n",
            "                                                                 \n",
            " batch_normalization_1 (Batc  (None, 16, 16, 10)       40        \n",
            " hNormalization)                                                 \n",
            "                                                                 \n",
            " max_pooling2d (MaxPooling2D  (None, 15, 15, 10)       0         \n",
            " )                                                               \n",
            "                                                                 \n",
            " flatten (Flatten)           (None, 2250)              0         \n",
            "                                                                 \n",
            " dense (Dense)               (None, 256)               576256    \n",
            "                                                                 \n",
            " dense_1 (Dense)             (None, 2)                 514       \n",
            "                                                                 \n",
            "=================================================================\n",
            "Total params: 578,770\n",
            "Trainable params: 578,730\n",
            "Non-trainable params: 40\n",
            "_________________________________________________________________\n"
          ]
        },
        {
          "data": {
            "text/plain": [
              "<cppyy.gbl.TMVA.MethodPyKeras object at 0xffb0260>"
            ]
          },
          "execution_count": 18,
          "metadata": {},
          "output_type": "execute_result"
        },
        {
          "name": "stdout",
          "output_type": "stream",
          "text": [
            "Factory                  : Booking method: \u001b[1mPyKeras\u001b[0m\n",
            "                         : \n",
            "                         : Setting up keras with tensorflow backend\n",
            "                         : Using Keras version 2.8\n",
            "                         : Using TensorFlow version 2\n",
            "<WARNING>                : The Keras version is not compatible with TensorFlow 2. Use instead tf.keras\n",
            "                         : Use Keras version from TensorFlow : tf.keras\n",
            "                         :  Loading Keras Model \n",
            "                         : Loaded model from file: model_cnn.h5\n"
          ]
        },
        {
          "name": "stderr",
          "output_type": "stream",
          "text": [
            "Info in <TMVA_CNN_Classification>: Building convolutional keras model\n",
            "2022-03-25 21:58:58.334232: W tensorflow/stream_executor/platform/default/dso_loader.cc:64] Could not load dynamic library 'libcudart.so.11.0'; dlerror: libcudart.so.11.0: cannot open shared object file: No such file or directory; LD_LIBRARY_PATH: /home/neel/Root/install/lib:/opt/ros/noetic/lib\n",
            "2022-03-25 21:58:58.334278: I tensorflow/stream_executor/cuda/cudart_stub.cc:29] Ignore above cudart dlerror if you do not have a GPU set up on your machine.\n",
            "2022-03-25 21:59:08.532407: W tensorflow/stream_executor/platform/default/dso_loader.cc:64] Could not load dynamic library 'libcuda.so.1'; dlerror: libcuda.so.1: cannot open shared object file: No such file or directory; LD_LIBRARY_PATH: /home/neel/Root/install/lib:/opt/ros/noetic/lib\n",
            "2022-03-25 21:59:08.532437: W tensorflow/stream_executor/cuda/cuda_driver.cc:269] failed call to cuInit: UNKNOWN ERROR (303)\n",
            "2022-03-25 21:59:08.532458: I tensorflow/stream_executor/cuda/cuda_diagnostics.cc:156] kernel driver does not appear to be running on this host (neel-HP-Pavilion-15-Notebook-PC): /proc/driver/nvidia/version does not exist\n",
            "2022-03-25 21:59:08.532676: I tensorflow/core/platform/cpu_feature_guard.cc:151] This TensorFlow binary is optimized with oneAPI Deep Neural Network Library (oneDNN) to use the following CPU instructions in performance-critical operations:  AVX2 FMA\n",
            "To enable them in other operations, rebuild TensorFlow with the appropriate compiler flags.\n",
            "Info in <TMVA_CNN_Classification>: Booking tf.Keras CNN model\n"
          ]
        }
      ],
      "source": [
        "\n",
        "\n",
        "ROOT.Info(\"TMVA_CNN_Classification\", \"Building convolutional keras model\")\n",
        "#  create python script which can be executed\n",
        "#  create 2 conv2d layer + maxpool + dense\n",
        "\n",
        "import tensorflow\n",
        "from tensorflow.keras.models import Sequential\n",
        "from tensorflow.keras.optimizers import Adam\n",
        "\n",
        "from tensorflow.keras.layers import Input, Dense, Dropout, Flatten, Conv2D, MaxPooling2D, Reshape, BatchNormalization\n",
        "\n",
        "model = Sequential()\n",
        "model.add(Reshape((16, 16, 1), input_shape = (256, )))\n",
        "model.add(Conv2D(10, kernel_size=(3,3), kernel_initializer='TruncatedNormal', activation='relu', padding='same' ) )\n",
        "model.add(Conv2D(10, kernel_size=(3,3), kernel_initializer='glorot_normal', activation ='relu', padding = 'same') )\n",
        "model.add(BatchNormalization())\n",
        "model.add(Conv2D(10, kernel_size = (3,3), kernel_initializer = 'glorot_normal',activation ='relu', padding = 'same') )\n",
        "model.add(BatchNormalization())\n",
        "model.add(MaxPooling2D(pool_size = (2, 2), strides = (1,1))) \n",
        "model.add(Flatten())\n",
        "model.add(Dense(256, activation = 'relu')) \n",
        "model.add(Dense(2, activation = 'sigmoid'))\n",
        "model.compile(loss = 'binary_crossentropy', optimizer = Adam(learning_rate = 0.001), metrics = ['accuracy'])\n",
        "model.save('model_cnn.h5')\n",
        "model.summary()\n",
        "\n",
        "\n",
        "\n",
        "if (ROOT.gSystem.AccessPathName(\"model_cnn.h5\")):\n",
        " Warning(\"TMVA_CNN_Classification\", \"Error creating Keras model file - skip using Keras\")\n",
        "else:\n",
        " #  book PyKeras method only if Keras model could be created\n",
        " ROOT.Info(\"TMVA_CNN_Classification\", \"Booking tf.Keras CNN model\")\n",
        "\n",
        "\n",
        "factory.BookMethod(loader, ROOT.TMVA.Types.kPyKeras, \"PyKeras\",\"H:!V:VarTransform=None:FilenameModel=model_cnn.h5:\"+\"FilenameTrainedModel=trained_model_cnn.h5:NumEpochs=20:BatchSize=128\")\n",
        "\n",
        "\n",
        "      "
      ]
    },
    {
      "cell_type": "code",
      "execution_count": null,
      "id": "80c298e2",
      "metadata": {
        "id": "80c298e2",
        "outputId": "f2d136da-d49e-4768-dcbd-793fa6728a4d"
      },
      "outputs": [
        {
          "name": "stdout",
          "output_type": "stream",
          "text": [
            "/home/neel/Root/install/tutorials/tmva/PyTorch_Generate_CNN_Model.py\n",
            "custom objects for loading model :  {'optimizer': <class 'torch.optim.adam.Adam'>, 'criterion': BCELoss(), 'train_func': <function fit at 0x7f85a0164280>, 'predict_func': <function predict at 0x7f86900a08b0>}\n",
            "Factory                  : Booking method: \u001b[1mPyTorch\u001b[0m\n",
            "                         : \n",
            "                         : Using PyTorch - setting special configuration options \n",
            "                         : Using PyTorch version 1\n",
            "                         :  Setup PyTorch Model \n",
            "                         :  Executing user initialization code from  /home/neel/Root/install/tutorials/tmva/PyTorch_Generate_CNN_Model.py\n",
            "                         : Loaded pytorch train function: \n",
            "                         : Loaded pytorch optimizer: \n",
            "                         : Loaded pytorch loss function: \n",
            "                         : Loaded pytorch predict function: \n",
            "                         : Load model from file: PyTorchModelCNN.pt\n"
          ]
        },
        {
          "name": "stderr",
          "output_type": "stream",
          "text": [
            "Info in <TMVA_CNN_Classification>: Using Convolutional PyTorch Model\n",
            "Info in <TMVA_CNN_Classification>: Booking PyTorch CNN model\n"
          ]
        }
      ],
      "source": [
        "import torch\n",
        "from torch import nn\n",
        "# from .modules import *  # noqa: F403\n",
        "# from .parameter import Parameter, UninitializedParameter, UninitializedBuffer\n",
        "# from .parallel import DataParallel\n",
        "if (usePyTorchCNN):\n",
        "\n",
        "  ROOT.Info(\"TMVA_CNN_Classification\", \"Using Convolutional PyTorch Model\")\n",
        "  pyTorchFileName = str(ROOT.gROOT.GetTutorialDir()) + \"/tmva/PyTorch_Generate_CNN_Model.py\"\n",
        "  print(pyTorchFileName)\n",
        "  # check that pytorch can be imported and file defining the model and used later when booking the method is existing\n",
        "  if (ROOT.gSystem.Exec(\"python -c 'import torch'\")  | ROOT.gSystem.AccessPathName(pyTorchFileName) ):\n",
        "     Warning(\"TMVA_CNN_Classification\", \"PyTorch is not installed or model building file is not existing - skip using PyTorch\")\n",
        "  else:\n",
        "     # book PyTorch method only if PyTorch model could be created\n",
        "     ROOT.Info(\"TMVA_CNN_Classification\", \"Booking PyTorch CNN model\")\n",
        "     methodOpt = \"H:!V:VarTransform=None:FilenameModel=PyTorchModelCNN.pt:\" + \"FilenameTrainedModel=PyTorchTrainedModelCNN.pt:NumEpochs=20:BatchSize=100\"\n",
        "     methodOpt += \":UserCode=\" + pyTorchFileName\n",
        "     factory.BookMethod(loader, ROOT.TMVA.Types.kPyTorch, \"PyTorch\", methodOpt)"
      ]
    },
    {
      "cell_type": "code",
      "execution_count": 1,
      "id": "8508c0df",
      "metadata": {
        "id": "8508c0df"
      },
      "outputs": [],
      "source": [
        "#  ## Train Methods\n",
        "\n",
        "factory.TrainAllMethods()"
      ]
    },
    {
      "cell_type": "code",
      "execution_count": null,
      "id": "5eb38e61",
      "metadata": {
        "id": "5eb38e61"
      },
      "outputs": [],
      "source": [
        "## Test and Evaluate Methods\n",
        "\n",
        "factory.TestAllMethods();\n",
        "\n",
        "factory.EvaluateAllMethods();\n",
        "\n",
        "\n"
      ]
    },
    {
      "cell_type": "code",
      "execution_count": null,
      "id": "28a1cedc",
      "metadata": {
        "id": "28a1cedc"
      },
      "outputs": [],
      "source": [
        "## Plot ROC Curve\n",
        "\n",
        "auto c1 = factory.GetROCCurve(loader);\n",
        "c1->Draw();\n",
        "\n"
      ]
    },
    {
      "cell_type": "code",
      "execution_count": null,
      "id": "e1a2b62d",
      "metadata": {
        "id": "e1a2b62d"
      },
      "outputs": [],
      "source": [
        "# close outputfile to save output file\n",
        "outputFile->Close();\n",
        "\n",
        "\n"
      ]
    },
    {
      "cell_type": "code",
      "execution_count": null,
      "id": "07bd5cce",
      "metadata": {
        "id": "07bd5cce"
      },
      "outputs": [],
      "source": [
        "\n"
      ]
    }
  ],
  "metadata": {
    "kernelspec": {
      "display_name": "Python 3 (ipykernel)",
      "language": "python",
      "name": "python3"
    },
    "language_info": {
      "codemirror_mode": {
        "name": "ipython",
        "version": 3
      },
      "file_extension": ".py",
      "mimetype": "text/x-python",
      "name": "python",
      "nbconvert_exporter": "python",
      "pygments_lexer": "ipython3",
      "version": "3.8.10"
    },
    "colab": {
      "name": " TMVA_CNN_Classification.ipynb",
      "provenance": []
    }
  },
  "nbformat": 4,
  "nbformat_minor": 5
}