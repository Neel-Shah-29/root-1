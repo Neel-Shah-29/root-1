{
 "cells": [
  {
   "cell_type": "code",
   "execution_count": 54,
   "id": "0829aff7",
   "metadata": {},
   "outputs": [],
   "source": [
    "import ROOT\n",
    "from ROOT import TMVA"
   ]
  },
  {
   "cell_type": "code",
   "execution_count": 55,
   "id": "f28dac02",
   "metadata": {},
   "outputs": [],
   "source": [
    "ROOT.TMVA.Tools.Instance()\n",
    "TMVA.PyMethodBase.PyInitialize()\n",
    "\n",
    "## For PYMVA methods\n",
    "TMVA.PyMethodBase.PyInitialize();\n",
    "\n",
    "\n",
    "outputFile = ROOT.TFile.Open(\"Higgs_data_fullOutput.root\", \"RECREATE\")"
   ]
  },
  {
   "cell_type": "code",
   "execution_count": 56,
   "id": "5af2ea1a",
   "metadata": {},
   "outputs": [],
   "source": [
    "inputFileName = \"Higgs_data_full.root\"\n",
    "inputFile = ROOT.TFile.Open(inputFileName)"
   ]
  },
  {
   "cell_type": "code",
   "execution_count": 57,
   "id": "a15cb786",
   "metadata": {},
   "outputs": [
    {
     "name": "stdout",
     "output_type": "stream",
     "text": [
      "******************************************************************************\n",
      "*Tree    :sig_tree  : Signal Tree                                            *\n",
      "*Entries :  4500000 : Total =       504161860 bytes  File  Size =  451352120 *\n",
      "*        :          : Tree compression factor =   1.12                       *\n",
      "******************************************************************************\n",
      "*Br    0 :lepton_pT : Float_t F                                              *\n",
      "*Entries :  4500000 : Total  Size=   18005879 bytes  File Size  =   16918438 *\n",
      "*Baskets :       52 : Basket Size=    1216512 bytes  Compression=   1.00     *\n",
      "*............................................................................*\n",
      "*Br    1 :lepton_eta : Float_t F                                             *\n",
      "*Entries :  4500000 : Total  Size=   18005934 bytes  File Size  =   16894162 *\n",
      "*Baskets :       52 : Basket Size=    1216512 bytes  Compression=   1.01     *\n",
      "*............................................................................*\n",
      "*Br    2 :lepton_phi : Float_t F                                             *\n",
      "*Entries :  4500000 : Total  Size=   18005934 bytes  File Size  =   16930059 *\n",
      "*Baskets :       52 : Basket Size=    1216512 bytes  Compression=   1.00     *\n",
      "*............................................................................*\n",
      "*Br    3 :missing_energy_magnitude : Float_t F                               *\n",
      "*Entries :  4500000 : Total  Size=   18006704 bytes  File Size  =   16986380 *\n",
      "*Baskets :       52 : Basket Size=    1217024 bytes  Compression=   1.00     *\n",
      "*............................................................................*\n",
      "*Br    4 :missing_energy_phi : Float_t F                                     *\n",
      "*Entries :  4500000 : Total  Size=   18006374 bytes  File Size  =   16986068 *\n",
      "*Baskets :       52 : Basket Size=    1216512 bytes  Compression=   1.00     *\n",
      "*............................................................................*\n",
      "*Br    5 :jet1_pt   : Float_t F                                              *\n",
      "*Entries :  4500000 : Total  Size=   18005667 bytes  File Size  =   16952764 *\n",
      "*Baskets :       51 : Basket Size=    1216000 bytes  Compression=   1.00     *\n",
      "*............................................................................*\n",
      "*Br    6 :jet1_eta  : Float_t F                                              *\n",
      "*Entries :  4500000 : Total  Size=   18005721 bytes  File Size  =   16888258 *\n",
      "*Baskets :       51 : Basket Size=    1216000 bytes  Compression=   1.01     *\n",
      "*............................................................................*\n",
      "*Br    7 :jet1_phi  : Float_t F                                              *\n",
      "*Entries :  4500000 : Total  Size=   18005721 bytes  File Size  =   16926554 *\n",
      "*Baskets :       51 : Basket Size=    1216000 bytes  Compression=   1.00     *\n",
      "*............................................................................*\n",
      "*Br    8 :jet1_btag : Float_t F                                              *\n",
      "*Entries :  4500000 : Total  Size=   18005879 bytes  File Size  =    5045246 *\n",
      "*Baskets :       52 : Basket Size=    1216512 bytes  Compression=   3.37     *\n",
      "*............................................................................*\n",
      "*Br    9 :jet2_pt   : Float_t F                                              *\n",
      "*Entries :  4500000 : Total  Size=   18005667 bytes  File Size  =   16941709 *\n",
      "*Baskets :       51 : Basket Size=    1216000 bytes  Compression=   1.00     *\n",
      "*............................................................................*\n",
      "*Br   10 :jet2_eta  : Float_t F                                              *\n",
      "*Entries :  4500000 : Total  Size=   18005721 bytes  File Size  =   16889946 *\n",
      "*Baskets :       51 : Basket Size=    1216000 bytes  Compression=   1.01     *\n",
      "*............................................................................*\n",
      "*Br   11 :jet2_phi  : Float_t F                                              *\n",
      "*Entries :  4500000 : Total  Size=   18005721 bytes  File Size  =   16929302 *\n",
      "*Baskets :       51 : Basket Size=    1216000 bytes  Compression=   1.00     *\n",
      "*............................................................................*\n",
      "*Br   12 :jet2_btag : Float_t F                                              *\n",
      "*Entries :  4500000 : Total  Size=   18005879 bytes  File Size  =    4967738 *\n",
      "*Baskets :       52 : Basket Size=    1216512 bytes  Compression=   3.42     *\n",
      "*............................................................................*\n",
      "*Br   13 :jet3_pt   : Float_t F                                              *\n",
      "*Entries :  4500000 : Total  Size=   18005667 bytes  File Size  =   16901750 *\n",
      "*Baskets :       51 : Basket Size=    1216000 bytes  Compression=   1.00     *\n",
      "*............................................................................*\n",
      "*Br   14 :jet3_eta  : Float_t F                                              *\n",
      "*Entries :  4500000 : Total  Size=   18005721 bytes  File Size  =   16899229 *\n",
      "*Baskets :       51 : Basket Size=    1216000 bytes  Compression=   1.01     *\n",
      "*............................................................................*\n",
      "*Br   15 :jet3_phi  : Float_t F                                              *\n",
      "*Entries :  4500000 : Total  Size=   18005721 bytes  File Size  =   16931837 *\n",
      "*Baskets :       51 : Basket Size=    1216000 bytes  Compression=   1.00     *\n",
      "*............................................................................*\n",
      "*Br   16 :jet3_btag : Float_t F                                              *\n",
      "*Entries :  4500000 : Total  Size=   18005879 bytes  File Size  =    4759472 *\n",
      "*Baskets :       52 : Basket Size=    1216512 bytes  Compression=   3.57     *\n",
      "*............................................................................*\n",
      "*Br   17 :jet4_pt   : Float_t F                                              *\n",
      "*Entries :  4500000 : Total  Size=   18005667 bytes  File Size  =   16783276 *\n",
      "*Baskets :       51 : Basket Size=    1216000 bytes  Compression=   1.01     *\n",
      "*............................................................................*\n",
      "*Br   18 :jet4_eta  : Float_t F                                              *\n",
      "*Entries :  4500000 : Total  Size=   18005721 bytes  File Size  =   16906398 *\n",
      "*Baskets :       51 : Basket Size=    1216000 bytes  Compression=   1.00     *\n",
      "*............................................................................*\n",
      "*Br   19 :jet4_phi  : Float_t F                                              *\n",
      "*Entries :  4500000 : Total  Size=   18005721 bytes  File Size  =   16931428 *\n",
      "*Baskets :       51 : Basket Size=    1216000 bytes  Compression=   1.00     *\n",
      "*............................................................................*\n",
      "*Br   20 :jet4_btag : Float_t F                                              *\n",
      "*Entries :  4500000 : Total  Size=   18005879 bytes  File Size  =    4455213 *\n",
      "*Baskets :       52 : Basket Size=    1216512 bytes  Compression=   3.81     *\n",
      "*............................................................................*\n",
      "*Br   21 :m_jj      : Float_t F                                              *\n",
      "*Entries :  4500000 : Total  Size=   18005505 bytes  File Size  =   16985265 *\n",
      "*Baskets :       51 : Basket Size=    1216000 bytes  Compression=   1.00     *\n",
      "*............................................................................*\n",
      "*Br   22 :m_jjj     : Float_t F                                              *\n",
      "*Entries :  4500000 : Total  Size=   18005559 bytes  File Size  =   16985316 *\n",
      "*Baskets :       51 : Basket Size=    1216000 bytes  Compression=   1.00     *\n",
      "*............................................................................*\n",
      "*Br   23 :m_lv      : Float_t F                                              *\n",
      "*Entries :  4500000 : Total  Size=   18005505 bytes  File Size  =   16974389 *\n",
      "*Baskets :       51 : Basket Size=    1216000 bytes  Compression=   1.00     *\n",
      "*............................................................................*\n",
      "*Br   24 :m_jlv     : Float_t F                                              *\n",
      "*Entries :  4500000 : Total  Size=   18005559 bytes  File Size  =   16985316 *\n",
      "*Baskets :       51 : Basket Size=    1216000 bytes  Compression=   1.00     *\n",
      "*............................................................................*\n",
      "*Br   25 :m_bb      : Float_t F                                              *\n",
      "*Entries :  4500000 : Total  Size=   18005505 bytes  File Size  =   16985265 *\n",
      "*Baskets :       51 : Basket Size=    1216000 bytes  Compression=   1.00     *\n",
      "*............................................................................*\n",
      "*Br   26 :m_wbb     : Float_t F                                              *\n",
      "*Entries :  4500000 : Total  Size=   18005559 bytes  File Size  =   16985316 *\n",
      "*Baskets :       51 : Basket Size=    1216000 bytes  Compression=   1.00     *\n",
      "*............................................................................*\n",
      "*Br   27 :m_wwbb    : Float_t F                                              *\n",
      "*Entries :  4500000 : Total  Size=   18005613 bytes  File Size  =   16985367 *\n",
      "*Baskets :       51 : Basket Size=    1216000 bytes  Compression=   1.00     *\n",
      "*............................................................................*\n"
     ]
    }
   ],
   "source": [
    "signalTree     = inputFile.Get(\"sig_tree\")\n",
    "backgroundTree = inputFile.Get(\"bkg_tree\")\n",
    "\n",
    "signalTree.Print()\n",
    "# Get branch \"var1\" as numpy array\n",
    "# data = signalTree.AsNumpy([\"0\"])"
   ]
  },
  {
   "cell_type": "code",
   "execution_count": 58,
   "id": "9b80d5f5",
   "metadata": {},
   "outputs": [],
   "source": [
    "df = ROOT.RDataFrame(\"sig_tree\", \"Higgs_data_full.root\")"
   ]
  },
  {
   "cell_type": "code",
   "execution_count": 59,
   "id": "2b8028b9",
   "metadata": {},
   "outputs": [
    {
     "name": "stdout",
     "output_type": "stream",
     "text": [
      "{'jet1_btag': ndarray([0.       , 2.1730762, 0.       , ..., 2.1730762, 0.       ,\n",
      "         2.1730762], dtype=float32), 'jet1_eta': ndarray([-0.24857314, -0.5575249 ,  1.2823223 , ..., -0.84766227,\n",
      "          1.0743741 , -1.4526926 ], dtype=float32), 'jet1_phi': ndarray([-1.0920639 , -1.5882298 ,  1.3816643 , ...,  0.32391608,\n",
      "         -1.6004261 , -0.7949187 ], dtype=float32), 'jet1_pt': ndarray([0.75420225, 1.0955306 , 1.1048746 , ..., 0.96434915, 2.6352649 ,\n",
      "         0.62906677], dtype=float32), 'jet2_btag': ndarray([1.1074361, 2.2148721, 2.2148721, ..., 0.       , 0.       ,\n",
      "         0.       ], dtype=float32), 'jet2_eta': ndarray([-0.6536742 , -0.21364193,  1.540659  , ..., -1.3948323 ,\n",
      "          1.717449  ,  0.27107352], dtype=float32), 'jet2_phi': ndarray([ 0.9303491 ,  1.2710146 , -0.8196895 , ...,  1.0279992 ,\n",
      "          1.3875288 ,  0.12751034], dtype=float32), 'jet2_pt': ndarray([1.3749921 , 0.8125812 , 0.8517372 , ..., 0.42039177, 0.5250176 ,\n",
      "         0.49580798], dtype=float32), 'jet3_btag': ndarray([0.       , 0.       , 2.5482244, ..., 1.2741122, 2.5482244,\n",
      "         0.       ], dtype=float32), 'jet3_eta': ndarray([-1.5781983 , -1.2614318 ,  0.3560801 , ..., -0.27381197,\n",
      "         -0.9537678 ,  1.406507  ], dtype=float32), 'jet3_phi': ndarray([-1.0469854 ,  0.73215616, -0.20877755, ..., -1.0530875 ,\n",
      "          0.3965413 ,  1.3040882 ], dtype=float32), 'jet3_pt': ndarray([1.1389043 , 0.49999395, 0.9934899 , ..., 1.4420269 , 1.3963653 ,\n",
      "         0.45011747], dtype=float32), 'jet4_btag': ndarray([3.1019614, 0.       , 0.       , ..., 0.       , 0.       ,\n",
      "         3.1019614], dtype=float32), 'jet4_eta': ndarray([-0.01045457, -1.1389301 ,  1.1288476 , ..., -1.8909694 ,\n",
      "          0.24688782, -0.29278165], dtype=float32), 'jet4_phi': ndarray([-4.5767169e-02, -8.1911020e-04,  9.0046084e-01, ...,\n",
      "         -7.0722485e-01, -5.1633233e-01,  1.2039977e+00], dtype=float32), 'jet4_pt': ndarray([0.65792954, 0.3987009 , 1.2569546 , ..., 0.3806888 , 0.41622624,\n",
      "         0.69151974], dtype=float32), 'lepton_eta': ndarray([-0.6350818 ,  0.32914728,  1.4706388 , ..., -0.5620342 ,\n",
      "          0.43141398,  0.93495584], dtype=float32), 'lepton_pT': ndarray([0.8692932 , 0.9075421 , 0.79883474, ..., 0.32484114, 1.0749954 ,\n",
      "         0.5751976 ], dtype=float32), 'lepton_phi': ndarray([ 0.22569026,  0.35941187, -1.6359748 , ..., -0.6200238 ,\n",
      "         -0.08624443, -1.6065671 ], dtype=float32), 'm_bb': ndarray([0.72165745, 0.77973217, 0.8032515 , ..., 1.4502552 , 0.9405294 ,\n",
      "         0.79334384], dtype=float32), 'm_jj': ndarray([1.35376   , 0.3022199 , 0.90975326, ..., 0.56724066, 0.7872388 ,\n",
      "         0.79981637], dtype=float32), 'm_jjj': ndarray([0.9795631 , 0.83304816, 1.1083305 , ..., 0.8564721 , 0.94222623,\n",
      "         0.60850936], dtype=float32), 'm_jlv': ndarray([0.92000484, 0.9780984 , 0.95133126, ..., 1.2387358 , 1.9465196 ,\n",
      "         0.955778  ], dtype=float32), 'm_lv': ndarray([0.97807616, 0.98569965, 0.9856922 , ..., 0.9811184 , 0.97410166,\n",
      "         0.98154706], dtype=float32), 'm_wbb': ndarray([0.98875093, 0.99235576, 0.8659244 , ..., 0.98428637, 1.4392841 ,\n",
      "         0.82637423], dtype=float32), 'm_wwbb': ndarray([0.87667835, 0.7983426 , 0.7801176 , ..., 0.85733294, 1.2338251 ,\n",
      "         0.7133883 ], dtype=float32), 'missing_energy_magnitude': ndarray([0.32747006, 1.4979699 , 0.45377317, ..., 1.2200959 , 3.7237937 ,\n",
      "         0.3101873 ], dtype=float32), 'missing_energy_phi': ndarray([-0.6899932 , -0.31300953,  0.42562917, ...,  1.6382833 ,\n",
      "          0.03305865,  0.5080486 ], dtype=float32)}\n"
     ]
    }
   ],
   "source": [
    "# Take all columns\n",
    "npy1 = df.AsNumpy()\n",
    "print(npy1)"
   ]
  },
  {
   "cell_type": "code",
   "execution_count": 60,
   "id": "0795c997",
   "metadata": {},
   "outputs": [
    {
     "name": "stdout",
     "output_type": "stream",
     "text": [
      "{'lepton_pT': ndarray([0.8692932 , 0.9075421 , 0.79883474, ..., 0.32484114, 1.0749954 ,\n",
      "         0.5751976 ], dtype=float32)}\n",
      "<class 'dict'>\n",
      "{'lepton_eta': ndarray([-0.6350818 ,  0.32914728,  1.4706388 , ..., -0.5620342 ,\n",
      "          0.43141398,  0.93495584], dtype=float32)}\n",
      "<class 'dict'>\n",
      "[[0.8692932  0.9075421  0.79883474 ... 0.32484114 1.0749954  0.5751976 ]]\n",
      "[[-0.6350818   0.32914728  1.4706388  ... -0.5620342   0.43141398\n",
      "   0.93495584]]\n",
      "<class 'numpy.ndarray'>\n"
     ]
    }
   ],
   "source": [
    "vec1 = df.AsNumpy(columns=[\"lepton_pT\"])   # test to get \"vector\", vector<double> branch\n",
    "vec2 = df.AsNumpy(columns=[\"lepton_eta\"])   # test to get \"vector\", vector<double> branch\n",
    "print(vec1)\n",
    "print(type(vec1))\n",
    "print(vec2)\n",
    "print(type(vec2))\n",
    "# converting dictionary to \n",
    "# numpy array \n",
    "res_array = np.array(list(vec1.values()))\n",
    "res1_array = np.array(list(vec2.values()))\n",
    "# printing the converted array\n",
    "print(res_array)\n",
    "print(res1_array)\n",
    "# printing type of converted array\n",
    "print(type(res_array))"
   ]
  },
  {
   "cell_type": "code",
   "execution_count": 61,
   "id": "da027143",
   "metadata": {},
   "outputs": [],
   "source": [
    "from keras.models import Sequential\n",
    "from keras.layers import Dense,Flatten\n",
    "model = Sequential()\n",
    "model.add(Dense(12, input_dim=4500000, activation=\"relu\"))\n",
    "model.add(Dense(12, activation=\"relu\"))\n",
    "model.add(Dense(1, activation=\"sigmoid\"))\n",
    "model.add(Flatten())"
   ]
  },
  {
   "cell_type": "code",
   "execution_count": 62,
   "id": "bf171f2c",
   "metadata": {},
   "outputs": [],
   "source": [
    "model.compile(loss=\"binary_crossentropy\", optimizer=\"adam\", metrics=[\"accuracy\"])\n"
   ]
  },
  {
   "cell_type": "code",
   "execution_count": 63,
   "id": "4166ac12",
   "metadata": {},
   "outputs": [
    {
     "name": "stdout",
     "output_type": "stream",
     "text": [
      "Epoch 1/20\n",
      "1/1 [==============================] - 2s 2s/step - loss: 0.8786 - accuracy: 0.0000e+00\n",
      "Epoch 2/20\n",
      "1/1 [==============================] - 0s 406ms/step - loss: 15.2507 - accuracy: 0.0000e+00\n",
      "Epoch 3/20\n",
      "1/1 [==============================] - 0s 470ms/step - loss: 15.2507 - accuracy: 0.0000e+00\n",
      "Epoch 4/20\n",
      "1/1 [==============================] - 7s 7s/step - loss: 15.2507 - accuracy: 0.0000e+00\n",
      "Epoch 5/20\n",
      "1/1 [==============================] - 3s 3s/step - loss: 15.2507 - accuracy: 0.0000e+00\n",
      "Epoch 6/20\n",
      "1/1 [==============================] - 0s 373ms/step - loss: 15.2507 - accuracy: 0.0000e+00\n",
      "Epoch 7/20\n",
      "1/1 [==============================] - 0s 386ms/step - loss: 15.2507 - accuracy: 0.0000e+00\n",
      "Epoch 8/20\n",
      "1/1 [==============================] - 0s 392ms/step - loss: 15.2507 - accuracy: 0.0000e+00\n",
      "Epoch 9/20\n",
      "1/1 [==============================] - 0s 427ms/step - loss: 15.2507 - accuracy: 0.0000e+00\n",
      "Epoch 10/20\n",
      "1/1 [==============================] - 0s 419ms/step - loss: 15.2507 - accuracy: 0.0000e+00\n",
      "Epoch 11/20\n",
      "1/1 [==============================] - 0s 377ms/step - loss: 15.2507 - accuracy: 0.0000e+00\n",
      "Epoch 12/20\n",
      "1/1 [==============================] - 0s 378ms/step - loss: 15.2507 - accuracy: 0.0000e+00\n",
      "Epoch 13/20\n",
      "1/1 [==============================] - 0s 371ms/step - loss: 15.2507 - accuracy: 0.0000e+00\n",
      "Epoch 14/20\n",
      "1/1 [==============================] - 0s 372ms/step - loss: 15.2507 - accuracy: 0.0000e+00\n",
      "Epoch 15/20\n",
      "1/1 [==============================] - 0s 378ms/step - loss: 15.2507 - accuracy: 0.0000e+00\n",
      "Epoch 16/20\n",
      "1/1 [==============================] - 0s 372ms/step - loss: 15.2507 - accuracy: 0.0000e+00\n",
      "Epoch 17/20\n",
      "1/1 [==============================] - 0s 365ms/step - loss: 15.2507 - accuracy: 0.0000e+00\n",
      "Epoch 18/20\n",
      "1/1 [==============================] - 0s 365ms/step - loss: 15.2507 - accuracy: 0.0000e+00\n",
      "Epoch 19/20\n",
      "1/1 [==============================] - 0s 371ms/step - loss: 15.2507 - accuracy: 0.0000e+00\n",
      "Epoch 20/20\n",
      "1/1 [==============================] - 0s 369ms/step - loss: 15.2507 - accuracy: 0.0000e+00\n"
     ]
    },
    {
     "data": {
      "text/plain": [
       "<keras.callbacks.History at 0x7f3f5fa217c0>"
      ]
     },
     "execution_count": 63,
     "metadata": {},
     "output_type": "execute_result"
    }
   ],
   "source": [
    "model.fit(res_array,res1_array, epochs=20, batch_size=10)"
   ]
  },
  {
   "cell_type": "code",
   "execution_count": null,
   "id": "c6fb86d0",
   "metadata": {},
   "outputs": [],
   "source": []
  }
 ],
 "metadata": {
  "kernelspec": {
   "display_name": "Python 3 (ipykernel)",
   "language": "python",
   "name": "python3"
  },
  "language_info": {
   "codemirror_mode": {
    "name": "ipython",
    "version": 3
   },
   "file_extension": ".py",
   "mimetype": "text/x-python",
   "name": "python",
   "nbconvert_exporter": "python",
   "pygments_lexer": "ipython3",
   "version": "3.8.10"
  }
 },
 "nbformat": 4,
 "nbformat_minor": 5
}
